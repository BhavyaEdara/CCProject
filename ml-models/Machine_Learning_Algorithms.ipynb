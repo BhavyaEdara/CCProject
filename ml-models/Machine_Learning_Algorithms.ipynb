{
 "cells": [
  {
   "cell_type": "markdown",
   "metadata": {},
   "source": [
    "# Step:1 Importing the required Libraries"
   ]
  },
  {
   "cell_type": "markdown",
   "metadata": {},
   "source": [
    "Thease Four packages are essencial libraries which we will import every time"
   ]
  },
  {
   "cell_type": "markdown",
   "metadata": {},
   "source": [
    "NumPy is a general-purpose array-processing package. It provides a high-performance multidimensional array object, and tools for working with these arrays.It is the fundamental package for scientific computing with Python. "
   ]
  },
  {
   "cell_type": "code",
   "execution_count": 77,
   "metadata": {},
   "outputs": [],
   "source": [
    "import numpy as np"
   ]
  },
  {
   "cell_type": "markdown",
   "metadata": {},
   "source": [
    "It is a Python package that offers various data structures and operations for manipulating numerical data and time series. It is mainly popular for importing and analyzing data much easier(data manipulation tool)"
   ]
  },
  {
   "cell_type": "code",
   "execution_count": 78,
   "metadata": {},
   "outputs": [],
   "source": [
    "import pandas as pd "
   ]
  },
  {
   "cell_type": "markdown",
   "metadata": {},
   "source": [
    "Matplotlib is an amazing data visualization library in Python for 2D plots of arrays. Matplotlib is a multi-platform data visualization library built on NumPy arrays and designed to work with the broader SciPy stack. It was introduced by John Hunter in the year 2002.Matplotlib consists of several plots like line, bar, scatter, histogram etc."
   ]
  },
  {
   "cell_type": "code",
   "execution_count": 79,
   "metadata": {},
   "outputs": [],
   "source": [
    "import matplotlib.pyplot as plt"
   ]
  },
  {
   "cell_type": "markdown",
   "metadata": {},
   "source": [
    "Seaborn is a Python data visualization library based on matplotlib. It provides a high-level interface for drawing attractive and informative statistical graphics.\n",
    "\n"
   ]
  },
  {
   "cell_type": "code",
   "execution_count": 80,
   "metadata": {},
   "outputs": [],
   "source": [
    "import seaborn as sns"
   ]
  },
  {
   "cell_type": "markdown",
   "metadata": {},
   "source": [
    "No warning messages are displayed on terminal.ignore warning messages"
   ]
  },
  {
   "cell_type": "code",
   "execution_count": 81,
   "metadata": {},
   "outputs": [],
   "source": [
    "import warnings\n",
    "warnings.filterwarnings('ignore')"
   ]
  },
  {
   "cell_type": "markdown",
   "metadata": {},
   "source": [
    "# Step:2 Importing the Dataset"
   ]
  },
  {
   "cell_type": "markdown",
   "metadata": {},
   "source": [
    "Datasets are generally available in csv format.A CSV file stores tabular data in plain text.Each line of the file is a data record.We use the read_csv method of the pandas library to read a local CSV file as a Dataframe.Then we make seperate matrix and vector of independent and dependent variables from the dataframe."
   ]
  },
  {
   "cell_type": "code",
   "execution_count": 82,
   "metadata": {},
   "outputs": [],
   "source": [
    "# Importing dataset\n",
    "dataset = pd.read_csv(r'data.csv')"
   ]
  },
  {
   "cell_type": "code",
   "execution_count": 83,
   "metadata": {},
   "outputs": [],
   "source": [
    "dataset['label']= dataset['num'].map({0:\"no\",1:\"yes\"})\n",
    "dataset=dataset.drop([\"num\"],axis=1)"
   ]
  },
  {
   "cell_type": "code",
   "execution_count": 84,
   "metadata": {},
   "outputs": [],
   "source": [
    "dataset=dataset.fillna(0)"
   ]
  },
  {
   "cell_type": "code",
   "execution_count": 85,
   "metadata": {},
   "outputs": [
    {
     "data": {
      "text/html": [
       "<div>\n",
       "<style scoped>\n",
       "    .dataframe tbody tr th:only-of-type {\n",
       "        vertical-align: middle;\n",
       "    }\n",
       "\n",
       "    .dataframe tbody tr th {\n",
       "        vertical-align: top;\n",
       "    }\n",
       "\n",
       "    .dataframe thead th {\n",
       "        text-align: right;\n",
       "    }\n",
       "</style>\n",
       "<table border=\"1\" class=\"dataframe\">\n",
       "  <thead>\n",
       "    <tr style=\"text-align: right;\">\n",
       "      <th></th>\n",
       "      <th>age</th>\n",
       "      <th>sex</th>\n",
       "      <th>cp</th>\n",
       "      <th>trestbps</th>\n",
       "      <th>chol</th>\n",
       "      <th>fbs</th>\n",
       "      <th>restecg</th>\n",
       "      <th>thalach</th>\n",
       "      <th>exang</th>\n",
       "      <th>oldpeak</th>\n",
       "      <th>slope</th>\n",
       "      <th>ca</th>\n",
       "      <th>thal</th>\n",
       "      <th>label</th>\n",
       "    </tr>\n",
       "  </thead>\n",
       "  <tbody>\n",
       "    <tr>\n",
       "      <th>0</th>\n",
       "      <td>63.0</td>\n",
       "      <td>1</td>\n",
       "      <td>1</td>\n",
       "      <td>145.0</td>\n",
       "      <td>233.0</td>\n",
       "      <td>1</td>\n",
       "      <td>2</td>\n",
       "      <td>150.0</td>\n",
       "      <td>0</td>\n",
       "      <td>2.3</td>\n",
       "      <td>3</td>\n",
       "      <td>0.0</td>\n",
       "      <td>6.0</td>\n",
       "      <td>no</td>\n",
       "    </tr>\n",
       "    <tr>\n",
       "      <th>1</th>\n",
       "      <td>67.0</td>\n",
       "      <td>1</td>\n",
       "      <td>4</td>\n",
       "      <td>160.0</td>\n",
       "      <td>286.0</td>\n",
       "      <td>0</td>\n",
       "      <td>2</td>\n",
       "      <td>108.0</td>\n",
       "      <td>1</td>\n",
       "      <td>1.5</td>\n",
       "      <td>2</td>\n",
       "      <td>3.0</td>\n",
       "      <td>3.0</td>\n",
       "      <td>yes</td>\n",
       "    </tr>\n",
       "    <tr>\n",
       "      <th>2</th>\n",
       "      <td>67.0</td>\n",
       "      <td>1</td>\n",
       "      <td>4</td>\n",
       "      <td>120.0</td>\n",
       "      <td>229.0</td>\n",
       "      <td>0</td>\n",
       "      <td>2</td>\n",
       "      <td>129.0</td>\n",
       "      <td>1</td>\n",
       "      <td>2.6</td>\n",
       "      <td>2</td>\n",
       "      <td>2.0</td>\n",
       "      <td>7.0</td>\n",
       "      <td>yes</td>\n",
       "    </tr>\n",
       "    <tr>\n",
       "      <th>3</th>\n",
       "      <td>37.0</td>\n",
       "      <td>1</td>\n",
       "      <td>3</td>\n",
       "      <td>130.0</td>\n",
       "      <td>250.0</td>\n",
       "      <td>0</td>\n",
       "      <td>0</td>\n",
       "      <td>187.0</td>\n",
       "      <td>0</td>\n",
       "      <td>3.5</td>\n",
       "      <td>3</td>\n",
       "      <td>0.0</td>\n",
       "      <td>3.0</td>\n",
       "      <td>no</td>\n",
       "    </tr>\n",
       "    <tr>\n",
       "      <th>4</th>\n",
       "      <td>41.0</td>\n",
       "      <td>0</td>\n",
       "      <td>2</td>\n",
       "      <td>130.0</td>\n",
       "      <td>204.0</td>\n",
       "      <td>0</td>\n",
       "      <td>2</td>\n",
       "      <td>172.0</td>\n",
       "      <td>0</td>\n",
       "      <td>1.4</td>\n",
       "      <td>1</td>\n",
       "      <td>0.0</td>\n",
       "      <td>3.0</td>\n",
       "      <td>no</td>\n",
       "    </tr>\n",
       "  </tbody>\n",
       "</table>\n",
       "</div>"
      ],
      "text/plain": [
       "    age  sex  cp  trestbps   chol  fbs  restecg  thalach  exang  oldpeak  \\\n",
       "0  63.0    1   1     145.0  233.0    1        2    150.0      0      2.3   \n",
       "1  67.0    1   4     160.0  286.0    0        2    108.0      1      1.5   \n",
       "2  67.0    1   4     120.0  229.0    0        2    129.0      1      2.6   \n",
       "3  37.0    1   3     130.0  250.0    0        0    187.0      0      3.5   \n",
       "4  41.0    0   2     130.0  204.0    0        2    172.0      0      1.4   \n",
       "\n",
       "   slope   ca  thal label  \n",
       "0      3  0.0   6.0    no  \n",
       "1      2  3.0   3.0   yes  \n",
       "2      2  2.0   7.0   yes  \n",
       "3      3  0.0   3.0    no  \n",
       "4      1  0.0   3.0    no  "
      ]
     },
     "execution_count": 85,
     "metadata": {},
     "output_type": "execute_result"
    }
   ],
   "source": [
    "# Preview data\n",
    "dataset.head()\n",
    "#dataset.tail(5)\n",
    "#dataset.sample(5)"
   ]
  },
  {
   "cell_type": "code",
   "execution_count": 86,
   "metadata": {},
   "outputs": [
    {
     "data": {
      "text/plain": [
       "age         0\n",
       "sex         0\n",
       "cp          0\n",
       "trestbps    0\n",
       "chol        0\n",
       "fbs         0\n",
       "restecg     0\n",
       "thalach     0\n",
       "exang       0\n",
       "oldpeak     0\n",
       "slope       0\n",
       "ca          0\n",
       "thal        0\n",
       "label       0\n",
       "dtype: int64"
      ]
     },
     "execution_count": 86,
     "metadata": {},
     "output_type": "execute_result"
    }
   ],
   "source": [
    "# Count of NaN\n",
    "dataset.isnull().sum()"
   ]
  },
  {
   "cell_type": "code",
   "execution_count": 87,
   "metadata": {},
   "outputs": [
    {
     "data": {
      "text/plain": [
       "pandas.core.frame.DataFrame"
      ]
     },
     "execution_count": 87,
     "metadata": {},
     "output_type": "execute_result"
    }
   ],
   "source": [
    "#Verifying it as a 'dataframe' object in pandas\n",
    "type(dataset)"
   ]
  },
  {
   "cell_type": "code",
   "execution_count": 88,
   "metadata": {},
   "outputs": [
    {
     "data": {
      "text/plain": [
       "(303, 14)"
      ]
     },
     "execution_count": 88,
     "metadata": {},
     "output_type": "execute_result"
    }
   ],
   "source": [
    "# Dataset dimensions - (rows, columns)\n",
    "dataset.shape"
   ]
  },
  {
   "cell_type": "code",
   "execution_count": 89,
   "metadata": {},
   "outputs": [
    {
     "name": "stdout",
     "output_type": "stream",
     "text": [
      "<class 'pandas.core.frame.DataFrame'>\n",
      "RangeIndex: 303 entries, 0 to 302\n",
      "Data columns (total 14 columns):\n",
      " #   Column    Non-Null Count  Dtype  \n",
      "---  ------    --------------  -----  \n",
      " 0   age       303 non-null    float64\n",
      " 1   sex       303 non-null    int64  \n",
      " 2   cp        303 non-null    int64  \n",
      " 3   trestbps  303 non-null    float64\n",
      " 4   chol      303 non-null    float64\n",
      " 5   fbs       303 non-null    int64  \n",
      " 6   restecg   303 non-null    int64  \n",
      " 7   thalach   303 non-null    float64\n",
      " 8   exang     303 non-null    int64  \n",
      " 9   oldpeak   303 non-null    float64\n",
      " 10  slope     303 non-null    int64  \n",
      " 11  ca        303 non-null    float64\n",
      " 12  thal      303 non-null    float64\n",
      " 13  label     303 non-null    object \n",
      "dtypes: float64(7), int64(6), object(1)\n",
      "memory usage: 33.3+ KB\n"
     ]
    }
   ],
   "source": [
    "# Features data-type\n",
    "dataset.info()"
   ]
  },
  {
   "cell_type": "code",
   "execution_count": 90,
   "metadata": {},
   "outputs": [
    {
     "data": {
      "text/html": [
       "<div>\n",
       "<style scoped>\n",
       "    .dataframe tbody tr th:only-of-type {\n",
       "        vertical-align: middle;\n",
       "    }\n",
       "\n",
       "    .dataframe tbody tr th {\n",
       "        vertical-align: top;\n",
       "    }\n",
       "\n",
       "    .dataframe thead th {\n",
       "        text-align: right;\n",
       "    }\n",
       "</style>\n",
       "<table border=\"1\" class=\"dataframe\">\n",
       "  <thead>\n",
       "    <tr style=\"text-align: right;\">\n",
       "      <th></th>\n",
       "      <th>count</th>\n",
       "      <th>mean</th>\n",
       "      <th>std</th>\n",
       "      <th>min</th>\n",
       "      <th>25%</th>\n",
       "      <th>50%</th>\n",
       "      <th>75%</th>\n",
       "      <th>max</th>\n",
       "    </tr>\n",
       "  </thead>\n",
       "  <tbody>\n",
       "    <tr>\n",
       "      <th>age</th>\n",
       "      <td>303.0</td>\n",
       "      <td>54.366337</td>\n",
       "      <td>9.082101</td>\n",
       "      <td>29.0</td>\n",
       "      <td>47.5</td>\n",
       "      <td>55.0</td>\n",
       "      <td>61.0</td>\n",
       "      <td>77.0</td>\n",
       "    </tr>\n",
       "    <tr>\n",
       "      <th>sex</th>\n",
       "      <td>303.0</td>\n",
       "      <td>0.683168</td>\n",
       "      <td>0.466011</td>\n",
       "      <td>0.0</td>\n",
       "      <td>0.0</td>\n",
       "      <td>1.0</td>\n",
       "      <td>1.0</td>\n",
       "      <td>1.0</td>\n",
       "    </tr>\n",
       "    <tr>\n",
       "      <th>cp</th>\n",
       "      <td>303.0</td>\n",
       "      <td>3.155116</td>\n",
       "      <td>0.958941</td>\n",
       "      <td>1.0</td>\n",
       "      <td>3.0</td>\n",
       "      <td>3.0</td>\n",
       "      <td>4.0</td>\n",
       "      <td>4.0</td>\n",
       "    </tr>\n",
       "    <tr>\n",
       "      <th>trestbps</th>\n",
       "      <td>303.0</td>\n",
       "      <td>131.623762</td>\n",
       "      <td>17.538143</td>\n",
       "      <td>94.0</td>\n",
       "      <td>120.0</td>\n",
       "      <td>130.0</td>\n",
       "      <td>140.0</td>\n",
       "      <td>200.0</td>\n",
       "    </tr>\n",
       "    <tr>\n",
       "      <th>chol</th>\n",
       "      <td>303.0</td>\n",
       "      <td>246.264026</td>\n",
       "      <td>51.830751</td>\n",
       "      <td>126.0</td>\n",
       "      <td>211.0</td>\n",
       "      <td>240.0</td>\n",
       "      <td>274.5</td>\n",
       "      <td>564.0</td>\n",
       "    </tr>\n",
       "    <tr>\n",
       "      <th>fbs</th>\n",
       "      <td>303.0</td>\n",
       "      <td>0.148515</td>\n",
       "      <td>0.356198</td>\n",
       "      <td>0.0</td>\n",
       "      <td>0.0</td>\n",
       "      <td>0.0</td>\n",
       "      <td>0.0</td>\n",
       "      <td>1.0</td>\n",
       "    </tr>\n",
       "    <tr>\n",
       "      <th>restecg</th>\n",
       "      <td>303.0</td>\n",
       "      <td>0.983498</td>\n",
       "      <td>0.994883</td>\n",
       "      <td>0.0</td>\n",
       "      <td>0.0</td>\n",
       "      <td>0.0</td>\n",
       "      <td>2.0</td>\n",
       "      <td>2.0</td>\n",
       "    </tr>\n",
       "    <tr>\n",
       "      <th>thalach</th>\n",
       "      <td>303.0</td>\n",
       "      <td>149.646865</td>\n",
       "      <td>22.905161</td>\n",
       "      <td>71.0</td>\n",
       "      <td>133.5</td>\n",
       "      <td>153.0</td>\n",
       "      <td>166.0</td>\n",
       "      <td>202.0</td>\n",
       "    </tr>\n",
       "    <tr>\n",
       "      <th>exang</th>\n",
       "      <td>303.0</td>\n",
       "      <td>0.326733</td>\n",
       "      <td>0.469794</td>\n",
       "      <td>0.0</td>\n",
       "      <td>0.0</td>\n",
       "      <td>0.0</td>\n",
       "      <td>1.0</td>\n",
       "      <td>1.0</td>\n",
       "    </tr>\n",
       "    <tr>\n",
       "      <th>oldpeak</th>\n",
       "      <td>303.0</td>\n",
       "      <td>1.039604</td>\n",
       "      <td>1.161075</td>\n",
       "      <td>0.0</td>\n",
       "      <td>0.0</td>\n",
       "      <td>0.8</td>\n",
       "      <td>1.6</td>\n",
       "      <td>6.2</td>\n",
       "    </tr>\n",
       "    <tr>\n",
       "      <th>slope</th>\n",
       "      <td>303.0</td>\n",
       "      <td>1.600660</td>\n",
       "      <td>0.616226</td>\n",
       "      <td>1.0</td>\n",
       "      <td>1.0</td>\n",
       "      <td>2.0</td>\n",
       "      <td>2.0</td>\n",
       "      <td>3.0</td>\n",
       "    </tr>\n",
       "    <tr>\n",
       "      <th>ca</th>\n",
       "      <td>303.0</td>\n",
       "      <td>0.663366</td>\n",
       "      <td>0.934375</td>\n",
       "      <td>0.0</td>\n",
       "      <td>0.0</td>\n",
       "      <td>0.0</td>\n",
       "      <td>1.0</td>\n",
       "      <td>3.0</td>\n",
       "    </tr>\n",
       "    <tr>\n",
       "      <th>thal</th>\n",
       "      <td>303.0</td>\n",
       "      <td>4.702970</td>\n",
       "      <td>1.971038</td>\n",
       "      <td>0.0</td>\n",
       "      <td>3.0</td>\n",
       "      <td>3.0</td>\n",
       "      <td>7.0</td>\n",
       "      <td>7.0</td>\n",
       "    </tr>\n",
       "  </tbody>\n",
       "</table>\n",
       "</div>"
      ],
      "text/plain": [
       "          count        mean        std    min    25%    50%    75%    max\n",
       "age       303.0   54.366337   9.082101   29.0   47.5   55.0   61.0   77.0\n",
       "sex       303.0    0.683168   0.466011    0.0    0.0    1.0    1.0    1.0\n",
       "cp        303.0    3.155116   0.958941    1.0    3.0    3.0    4.0    4.0\n",
       "trestbps  303.0  131.623762  17.538143   94.0  120.0  130.0  140.0  200.0\n",
       "chol      303.0  246.264026  51.830751  126.0  211.0  240.0  274.5  564.0\n",
       "fbs       303.0    0.148515   0.356198    0.0    0.0    0.0    0.0    1.0\n",
       "restecg   303.0    0.983498   0.994883    0.0    0.0    0.0    2.0    2.0\n",
       "thalach   303.0  149.646865  22.905161   71.0  133.5  153.0  166.0  202.0\n",
       "exang     303.0    0.326733   0.469794    0.0    0.0    0.0    1.0    1.0\n",
       "oldpeak   303.0    1.039604   1.161075    0.0    0.0    0.8    1.6    6.2\n",
       "slope     303.0    1.600660   0.616226    1.0    1.0    2.0    2.0    3.0\n",
       "ca        303.0    0.663366   0.934375    0.0    0.0    0.0    1.0    3.0\n",
       "thal      303.0    4.702970   1.971038    0.0    3.0    3.0    7.0    7.0"
      ]
     },
     "execution_count": 90,
     "metadata": {},
     "output_type": "execute_result"
    }
   ],
   "source": [
    "# Statistical summary\n",
    "dataset.describe().T"
   ]
  },
  {
   "cell_type": "code",
   "execution_count": 91,
   "metadata": {},
   "outputs": [
    {
     "data": {
      "text/plain": [
       "age         0\n",
       "sex         0\n",
       "cp          0\n",
       "trestbps    0\n",
       "chol        0\n",
       "fbs         0\n",
       "restecg     0\n",
       "thalach     0\n",
       "exang       0\n",
       "oldpeak     0\n",
       "slope       0\n",
       "ca          0\n",
       "thal        0\n",
       "label       0\n",
       "dtype: int64"
      ]
     },
     "execution_count": 91,
     "metadata": {},
     "output_type": "execute_result"
    }
   ],
   "source": [
    "# Count of null values\n",
    "dataset.isnull().sum()"
   ]
  },
  {
   "cell_type": "markdown",
   "metadata": {},
   "source": [
    "# Data Visualization"
   ]
  },
  {
   "cell_type": "code",
   "execution_count": 92,
   "metadata": {},
   "outputs": [
    {
     "data": {
      "text/plain": [
       "<AxesSubplot:xlabel='label', ylabel='count'>"
      ]
     },
     "execution_count": 92,
     "metadata": {},
     "output_type": "execute_result"
    },
    {
     "data": {
      "image/png": "[encoded data removed]",
      "text/plain": [
       "<Figure size 720x432 with 1 Axes>"
      ]
     },
     "metadata": {},
     "output_type": "display_data"
    }
   ],
   "source": [
    "# Outcome column countplot\n",
    "sns.countplot(x = 'label',data = dataset)"
   ]
  },
  {
   "cell_type": "code",
   "execution_count": 93,
   "metadata": {},
   "outputs": [
    {
     "data": {
      "image/png": "[encoded data removed]",
      "text/plain": [
       "<Figure size 1080x1080 with 16 Axes>"
      ]
     },
     "metadata": {},
     "output_type": "display_data"
    }
   ],
   "source": [
    "#plt.figure(figsize = (15,20))\n",
    "dataset.hist(figsize = (15,15))\n",
    "plt.show()"
   ]
  },
  {
   "cell_type": "code",
   "execution_count": 94,
   "metadata": {},
   "outputs": [
    {
     "data": {
      "image/png": "[encoded data removed]",
      "text/plain": [
       "<Figure size 1440x432 with 1 Axes>"
      ]
     },
     "metadata": {},
     "output_type": "display_data"
    }
   ],
   "source": [
    "pd.crosstab(dataset.age,dataset.label).plot(kind=\"bar\",figsize=(20,6))\n",
    "plt.title('heart Disease Frequency for Ages')\n",
    "plt.xlabel('Age')\n",
    "plt.ylabel('Frequency')\n",
    "plt.show()"
   ]
  },
  {
   "cell_type": "code",
   "execution_count": null,
   "metadata": {},
   "outputs": [],
   "source": []
  },
  {
   "cell_type": "markdown",
   "metadata": {},
   "source": [
    "# Step:3 Encoding Categorical Data"
   ]
  },
  {
   "cell_type": "markdown",
   "metadata": {},
   "source": [
    "categorical data are varieables that contain label values rather than numeric values.The number of possible values is often limited to fixed set.Example values such as \"YES and \"NO\" cannot be used in mathematical equations of the model so we need to encode these variables into numbers.To achieve this we import LabelEncoder class from sklearn.preprocessing library."
   ]
  },
  {
   "cell_type": "code",
   "execution_count": 95,
   "metadata": {},
   "outputs": [],
   "source": [
    "from sklearn.preprocessing import LabelEncoder"
   ]
  },
  {
   "cell_type": "code",
   "execution_count": 96,
   "metadata": {},
   "outputs": [],
   "source": [
    "# creating instance of labelencoder\n",
    "labelencoder = LabelEncoder()"
   ]
  },
  {
   "cell_type": "code",
   "execution_count": 97,
   "metadata": {},
   "outputs": [
    {
     "data": {
      "text/html": [
       "<div>\n",
       "<style scoped>\n",
       "    .dataframe tbody tr th:only-of-type {\n",
       "        vertical-align: middle;\n",
       "    }\n",
       "\n",
       "    .dataframe tbody tr th {\n",
       "        vertical-align: top;\n",
       "    }\n",
       "\n",
       "    .dataframe thead th {\n",
       "        text-align: right;\n",
       "    }\n",
       "</style>\n",
       "<table border=\"1\" class=\"dataframe\">\n",
       "  <thead>\n",
       "    <tr style=\"text-align: right;\">\n",
       "      <th></th>\n",
       "      <th>age</th>\n",
       "      <th>sex</th>\n",
       "      <th>cp</th>\n",
       "      <th>trestbps</th>\n",
       "      <th>chol</th>\n",
       "      <th>fbs</th>\n",
       "      <th>restecg</th>\n",
       "      <th>thalach</th>\n",
       "      <th>exang</th>\n",
       "      <th>oldpeak</th>\n",
       "      <th>slope</th>\n",
       "      <th>ca</th>\n",
       "      <th>thal</th>\n",
       "      <th>label</th>\n",
       "    </tr>\n",
       "  </thead>\n",
       "  <tbody>\n",
       "    <tr>\n",
       "      <th>0</th>\n",
       "      <td>63.0</td>\n",
       "      <td>1</td>\n",
       "      <td>1</td>\n",
       "      <td>145.0</td>\n",
       "      <td>233.0</td>\n",
       "      <td>1</td>\n",
       "      <td>2</td>\n",
       "      <td>150.0</td>\n",
       "      <td>0</td>\n",
       "      <td>2.3</td>\n",
       "      <td>3</td>\n",
       "      <td>0.0</td>\n",
       "      <td>6.0</td>\n",
       "      <td>0</td>\n",
       "    </tr>\n",
       "    <tr>\n",
       "      <th>1</th>\n",
       "      <td>67.0</td>\n",
       "      <td>1</td>\n",
       "      <td>4</td>\n",
       "      <td>160.0</td>\n",
       "      <td>286.0</td>\n",
       "      <td>0</td>\n",
       "      <td>2</td>\n",
       "      <td>108.0</td>\n",
       "      <td>1</td>\n",
       "      <td>1.5</td>\n",
       "      <td>2</td>\n",
       "      <td>3.0</td>\n",
       "      <td>3.0</td>\n",
       "      <td>1</td>\n",
       "    </tr>\n",
       "    <tr>\n",
       "      <th>2</th>\n",
       "      <td>67.0</td>\n",
       "      <td>1</td>\n",
       "      <td>4</td>\n",
       "      <td>120.0</td>\n",
       "      <td>229.0</td>\n",
       "      <td>0</td>\n",
       "      <td>2</td>\n",
       "      <td>129.0</td>\n",
       "      <td>1</td>\n",
       "      <td>2.6</td>\n",
       "      <td>2</td>\n",
       "      <td>2.0</td>\n",
       "      <td>7.0</td>\n",
       "      <td>1</td>\n",
       "    </tr>\n",
       "    <tr>\n",
       "      <th>3</th>\n",
       "      <td>37.0</td>\n",
       "      <td>1</td>\n",
       "      <td>3</td>\n",
       "      <td>130.0</td>\n",
       "      <td>250.0</td>\n",
       "      <td>0</td>\n",
       "      <td>0</td>\n",
       "      <td>187.0</td>\n",
       "      <td>0</td>\n",
       "      <td>3.5</td>\n",
       "      <td>3</td>\n",
       "      <td>0.0</td>\n",
       "      <td>3.0</td>\n",
       "      <td>0</td>\n",
       "    </tr>\n",
       "    <tr>\n",
       "      <th>4</th>\n",
       "      <td>41.0</td>\n",
       "      <td>0</td>\n",
       "      <td>2</td>\n",
       "      <td>130.0</td>\n",
       "      <td>204.0</td>\n",
       "      <td>0</td>\n",
       "      <td>2</td>\n",
       "      <td>172.0</td>\n",
       "      <td>0</td>\n",
       "      <td>1.4</td>\n",
       "      <td>1</td>\n",
       "      <td>0.0</td>\n",
       "      <td>3.0</td>\n",
       "      <td>0</td>\n",
       "    </tr>\n",
       "  </tbody>\n",
       "</table>\n",
       "</div>"
      ],
      "text/plain": [
       "    age  sex  cp  trestbps   chol  fbs  restecg  thalach  exang  oldpeak  \\\n",
       "0  63.0    1   1     145.0  233.0    1        2    150.0      0      2.3   \n",
       "1  67.0    1   4     160.0  286.0    0        2    108.0      1      1.5   \n",
       "2  67.0    1   4     120.0  229.0    0        2    129.0      1      2.6   \n",
       "3  37.0    1   3     130.0  250.0    0        0    187.0      0      3.5   \n",
       "4  41.0    0   2     130.0  204.0    0        2    172.0      0      1.4   \n",
       "\n",
       "   slope   ca  thal  label  \n",
       "0      3  0.0   6.0      0  \n",
       "1      2  3.0   3.0      1  \n",
       "2      2  2.0   7.0      1  \n",
       "3      3  0.0   3.0      0  \n",
       "4      1  0.0   3.0      0  "
      ]
     },
     "execution_count": 97,
     "metadata": {},
     "output_type": "execute_result"
    }
   ],
   "source": [
    "# Assigning numerical values and storing in another column\n",
    "dataset['label'] = labelencoder.fit_transform(dataset['label'])\n",
    "dataset.head(5)"
   ]
  },
  {
   "cell_type": "code",
   "execution_count": null,
   "metadata": {},
   "outputs": [],
   "source": []
  },
  {
   "cell_type": "markdown",
   "metadata": {},
   "source": [
    "# feature selection"
   ]
  },
  {
   "cell_type": "code",
   "execution_count": 98,
   "metadata": {},
   "outputs": [
    {
     "data": {
      "image/png": "[encoded data removed]",
      "text/plain": [
       "<Figure size 1152x720 with 2 Axes>"
      ]
     },
     "metadata": {},
     "output_type": "display_data"
    }
   ],
   "source": [
    "# Heatmap\n",
    "\n",
    "plt.figure(figsize = (16,10))\n",
    "dataset.corr()\n",
    "sns.heatmap(dataset.corr(), annot = True,linewidths=3)\n",
    "plt.show()"
   ]
  },
  {
   "cell_type": "code",
   "execution_count": 99,
   "metadata": {},
   "outputs": [
    {
     "name": "stdout",
     "output_type": "stream",
     "text": [
      "label       1.000000\n",
      "thal        0.518602\n",
      "ca          0.465008\n",
      "exang       0.436757\n",
      "oldpeak     0.430696\n",
      "thalach     0.421741\n",
      "cp          0.412522\n",
      "slope       0.345877\n",
      "sex         0.280937\n",
      "age         0.225439\n",
      "restecg     0.168653\n",
      "trestbps    0.144931\n",
      "chol        0.085239\n",
      "fbs         0.028046\n",
      "Name: label, dtype: float64\n"
     ]
    }
   ],
   "source": [
    "print(dataset.corr()[\"label\"].abs().sort_values(ascending=False))"
   ]
  },
  {
   "cell_type": "code",
   "execution_count": 100,
   "metadata": {},
   "outputs": [
    {
     "name": "stdout",
     "output_type": "stream",
     "text": [
      "    feature       Score\n",
      "7   thalach  188.320472\n",
      "4      chol   23.936394\n",
      "0       age   23.286624\n",
      "2        cp   14.978567\n",
      "3  trestbps   14.823925\n",
      "6   restecg    8.644997\n",
      "1       sex    7.576835\n",
      "5       fbs    0.202934\n"
     ]
    }
   ],
   "source": [
    "from sklearn.feature_selection import SelectKBest\n",
    "from sklearn.feature_selection import chi2\n",
    "\n",
    "X = dataset.iloc[:,0:8]  \n",
    "y = dataset.iloc[:,-1] \n",
    "\n",
    "bestfeatures = SelectKBest(score_func=chi2, k=8)\n",
    "fit = bestfeatures.fit(X,y)\n",
    "dfscores = pd.DataFrame(fit.scores_)\n",
    "dfcolumns = pd.DataFrame(X.columns)\n",
    "#concat two dataframes for better visualization \n",
    "featureScores = pd.concat([dfcolumns,dfscores],axis=1)\n",
    "featureScores.columns = ['feature','Score']  #naming the dataframe columns\n",
    "print(featureScores.nlargest(8,'Score'))  #print 10 best features\n"
   ]
  },
  {
   "cell_type": "code",
   "execution_count": 101,
   "metadata": {},
   "outputs": [
    {
     "name": "stdout",
     "output_type": "stream",
     "text": [
      "[0.16587647 0.08295419 0.20735679 0.1414088  0.13891299 0.02728465\n",
      " 0.04076767 0.19543845]\n"
     ]
    },
    {
     "data": {
      "image/png": "[encoded data removed]",
      "text/plain": [
       "<Figure size 720x432 with 1 Axes>"
      ]
     },
     "metadata": {},
     "output_type": "display_data"
    }
   ],
   "source": [
    "from sklearn.ensemble import ExtraTreesClassifier\n",
    "import matplotlib.pyplot as plt\n",
    "model = ExtraTreesClassifier()\n",
    "model.fit(X,y)\n",
    "print(model.feature_importances_) #use inbuilt class feature_importances of tree based classifiers\n",
    "#plot graph of feature importances for better visualization\n",
    "feat_importances = pd.Series(model.feature_importances_, index=X.columns)\n",
    "feat_importances.nlargest(8).plot(kind='barh')\n",
    "plt.show()"
   ]
  },
  {
   "cell_type": "code",
   "execution_count": 102,
   "metadata": {},
   "outputs": [],
   "source": [
    "dataset=dataset.drop(['oldpeak', 'slope','ca', 'thal'], axis=1)"
   ]
  },
  {
   "cell_type": "markdown",
   "metadata": {},
   "source": [
    "# Step:4 Handling the Missing Data"
   ]
  },
  {
   "cell_type": "markdown",
   "metadata": {},
   "source": [
    "The data we get is rarely homogeneous. Data can be missing due to various reasons and needs to be handled so that it does not reduce the performance of our machine learning model.We can replace the missing data by the Mean or Median of the entire column.We use imputer class of sklearn.preprocessing for this task."
   ]
  },
  {
   "cell_type": "code",
   "execution_count": 103,
   "metadata": {},
   "outputs": [],
   "source": [
    "dataset_new = dataset"
   ]
  },
  {
   "cell_type": "code",
   "execution_count": 104,
   "metadata": {},
   "outputs": [
    {
     "data": {
      "text/plain": [
       "age         0\n",
       "sex         0\n",
       "cp          0\n",
       "trestbps    0\n",
       "chol        0\n",
       "fbs         0\n",
       "restecg     0\n",
       "thalach     0\n",
       "exang       0\n",
       "label       0\n",
       "dtype: int64"
      ]
     },
     "execution_count": 104,
     "metadata": {},
     "output_type": "execute_result"
    }
   ],
   "source": [
    "# Count of NaN\n",
    "dataset_new.isnull().sum()"
   ]
  },
  {
   "cell_type": "code",
   "execution_count": 105,
   "metadata": {},
   "outputs": [
    {
     "data": {
      "text/html": [
       "<div>\n",
       "<style scoped>\n",
       "    .dataframe tbody tr th:only-of-type {\n",
       "        vertical-align: middle;\n",
       "    }\n",
       "\n",
       "    .dataframe tbody tr th {\n",
       "        vertical-align: top;\n",
       "    }\n",
       "\n",
       "    .dataframe thead th {\n",
       "        text-align: right;\n",
       "    }\n",
       "</style>\n",
       "<table border=\"1\" class=\"dataframe\">\n",
       "  <thead>\n",
       "    <tr style=\"text-align: right;\">\n",
       "      <th></th>\n",
       "      <th>count</th>\n",
       "      <th>mean</th>\n",
       "      <th>std</th>\n",
       "      <th>min</th>\n",
       "      <th>25%</th>\n",
       "      <th>50%</th>\n",
       "      <th>75%</th>\n",
       "      <th>max</th>\n",
       "    </tr>\n",
       "  </thead>\n",
       "  <tbody>\n",
       "    <tr>\n",
       "      <th>age</th>\n",
       "      <td>303.0</td>\n",
       "      <td>54.366337</td>\n",
       "      <td>9.082101</td>\n",
       "      <td>29.0</td>\n",
       "      <td>47.5</td>\n",
       "      <td>55.0</td>\n",
       "      <td>61.0</td>\n",
       "      <td>77.0</td>\n",
       "    </tr>\n",
       "    <tr>\n",
       "      <th>sex</th>\n",
       "      <td>303.0</td>\n",
       "      <td>0.683168</td>\n",
       "      <td>0.466011</td>\n",
       "      <td>0.0</td>\n",
       "      <td>0.0</td>\n",
       "      <td>1.0</td>\n",
       "      <td>1.0</td>\n",
       "      <td>1.0</td>\n",
       "    </tr>\n",
       "    <tr>\n",
       "      <th>cp</th>\n",
       "      <td>303.0</td>\n",
       "      <td>3.155116</td>\n",
       "      <td>0.958941</td>\n",
       "      <td>1.0</td>\n",
       "      <td>3.0</td>\n",
       "      <td>3.0</td>\n",
       "      <td>4.0</td>\n",
       "      <td>4.0</td>\n",
       "    </tr>\n",
       "    <tr>\n",
       "      <th>trestbps</th>\n",
       "      <td>303.0</td>\n",
       "      <td>131.623762</td>\n",
       "      <td>17.538143</td>\n",
       "      <td>94.0</td>\n",
       "      <td>120.0</td>\n",
       "      <td>130.0</td>\n",
       "      <td>140.0</td>\n",
       "      <td>200.0</td>\n",
       "    </tr>\n",
       "    <tr>\n",
       "      <th>chol</th>\n",
       "      <td>303.0</td>\n",
       "      <td>246.264026</td>\n",
       "      <td>51.830751</td>\n",
       "      <td>126.0</td>\n",
       "      <td>211.0</td>\n",
       "      <td>240.0</td>\n",
       "      <td>274.5</td>\n",
       "      <td>564.0</td>\n",
       "    </tr>\n",
       "    <tr>\n",
       "      <th>fbs</th>\n",
       "      <td>303.0</td>\n",
       "      <td>0.148515</td>\n",
       "      <td>0.356198</td>\n",
       "      <td>0.0</td>\n",
       "      <td>0.0</td>\n",
       "      <td>0.0</td>\n",
       "      <td>0.0</td>\n",
       "      <td>1.0</td>\n",
       "    </tr>\n",
       "    <tr>\n",
       "      <th>restecg</th>\n",
       "      <td>303.0</td>\n",
       "      <td>0.983498</td>\n",
       "      <td>0.994883</td>\n",
       "      <td>0.0</td>\n",
       "      <td>0.0</td>\n",
       "      <td>0.0</td>\n",
       "      <td>2.0</td>\n",
       "      <td>2.0</td>\n",
       "    </tr>\n",
       "    <tr>\n",
       "      <th>thalach</th>\n",
       "      <td>303.0</td>\n",
       "      <td>149.646865</td>\n",
       "      <td>22.905161</td>\n",
       "      <td>71.0</td>\n",
       "      <td>133.5</td>\n",
       "      <td>153.0</td>\n",
       "      <td>166.0</td>\n",
       "      <td>202.0</td>\n",
       "    </tr>\n",
       "    <tr>\n",
       "      <th>exang</th>\n",
       "      <td>303.0</td>\n",
       "      <td>0.326733</td>\n",
       "      <td>0.469794</td>\n",
       "      <td>0.0</td>\n",
       "      <td>0.0</td>\n",
       "      <td>0.0</td>\n",
       "      <td>1.0</td>\n",
       "      <td>1.0</td>\n",
       "    </tr>\n",
       "    <tr>\n",
       "      <th>label</th>\n",
       "      <td>303.0</td>\n",
       "      <td>0.455446</td>\n",
       "      <td>0.498835</td>\n",
       "      <td>0.0</td>\n",
       "      <td>0.0</td>\n",
       "      <td>0.0</td>\n",
       "      <td>1.0</td>\n",
       "      <td>1.0</td>\n",
       "    </tr>\n",
       "  </tbody>\n",
       "</table>\n",
       "</div>"
      ],
      "text/plain": [
       "          count        mean        std    min    25%    50%    75%    max\n",
       "age       303.0   54.366337   9.082101   29.0   47.5   55.0   61.0   77.0\n",
       "sex       303.0    0.683168   0.466011    0.0    0.0    1.0    1.0    1.0\n",
       "cp        303.0    3.155116   0.958941    1.0    3.0    3.0    4.0    4.0\n",
       "trestbps  303.0  131.623762  17.538143   94.0  120.0  130.0  140.0  200.0\n",
       "chol      303.0  246.264026  51.830751  126.0  211.0  240.0  274.5  564.0\n",
       "fbs       303.0    0.148515   0.356198    0.0    0.0    0.0    0.0    1.0\n",
       "restecg   303.0    0.983498   0.994883    0.0    0.0    0.0    2.0    2.0\n",
       "thalach   303.0  149.646865  22.905161   71.0  133.5  153.0  166.0  202.0\n",
       "exang     303.0    0.326733   0.469794    0.0    0.0    0.0    1.0    1.0\n",
       "label     303.0    0.455446   0.498835    0.0    0.0    0.0    1.0    1.0"
      ]
     },
     "execution_count": 105,
     "metadata": {},
     "output_type": "execute_result"
    }
   ],
   "source": [
    "# Statistical summary\n",
    "dataset_new.describe().T"
   ]
  },
  {
   "cell_type": "markdown",
   "metadata": {},
   "source": [
    "# Step:6 Splitting the dataset into testing set and training set"
   ]
  },
  {
   "cell_type": "markdown",
   "metadata": {},
   "source": [
    "We make two partitions of dataset one for training the model called training set and other for testing the performance of the trained model called test set.The split is generally 80/20.We import train_test_split() method of sklearn.model_selection library."
   ]
  },
  {
   "cell_type": "code",
   "execution_count": 106,
   "metadata": {},
   "outputs": [],
   "source": [
    "from sklearn.model_selection import train_test_split\n",
    "\n",
    "predictors = dataset_new.drop(\"label\",axis=1)\n",
    "target = dataset_new[\"label\"]\n",
    "\n",
    "X_train,X_test,y_train,y_test = train_test_split(predictors,target,test_size=0.30,random_state=9)"
   ]
  },
  {
   "cell_type": "code",
   "execution_count": 107,
   "metadata": {},
   "outputs": [
    {
     "name": "stdout",
     "output_type": "stream",
     "text": [
      "X_train shape: (212, 9)\n",
      "X_test shape: (91, 9)\n",
      "Y_train shape: (212,)\n",
      "Y_test shape: (91,)\n"
     ]
    }
   ],
   "source": [
    "# Checking dimensions\n",
    "print(\"X_train shape:\", X_train.shape)\n",
    "print(\"X_test shape:\", X_test.shape)\n",
    "print(\"Y_train shape:\", y_train.shape)\n",
    "print(\"Y_test shape:\", y_test.shape)"
   ]
  },
  {
   "cell_type": "markdown",
   "metadata": {},
   "source": [
    "# Step:7 UpSampling"
   ]
  },
  {
   "cell_type": "code",
   "execution_count": 108,
   "metadata": {},
   "outputs": [],
   "source": [
    "# from imblearn.over_sampling import SMOTE\n",
    "\n",
    "# print(\"Before UpSampling, counts of label '1': {}\".format(sum(y_train==1)))\n",
    "# print(\"Before UpSampling, counts of label '0': {} \\n\".format(sum(y_train==0)))\n",
    "\n",
    "# sm = SMOTE(sampling_strategy = 1 ,k_neighbors = 5, random_state=1) \n",
    "# X_train, y_train = sm.fit_resample(X_train, y_train.ravel())\n",
    "\n",
    "\n",
    "# print(\"After UpSampling, counts of label '1': {}\".format(sum(y_train_res==1)))\n",
    "# print(\"After UpSampling, counts of label '0': {} \\n\".format(sum(y_train_res==0)))\n",
    "\n",
    "\n",
    "\n",
    "# print('After UpSampling, the shape of train_X: {}'.format(X_train_res.shape))\n",
    "# print('After UpSampling, the shape of train_y: {} \\n'.format(y_train_res.shape))"
   ]
  },
  {
   "cell_type": "code",
   "execution_count": 33,
   "metadata": {},
   "outputs": [],
   "source": [
    "# # Checking dimensions\n",
    "# print(\"X_train shape:\", X_train.shape)\n",
    "# print(\"X_test shape:\", X_test.shape)\n",
    "# print(\"Y_train shape:\", y_train.shape)\n",
    "# print(\"Y_test shape:\", y_test.shape)"
   ]
  },
  {
   "cell_type": "markdown",
   "metadata": {},
   "source": [
    "# HYBRID-MODEL"
   ]
  },
  {
   "cell_type": "markdown",
   "metadata": {},
   "source": [
    "## Naive_Bayes"
   ]
  },
  {
   "cell_type": "code",
   "execution_count": 34,
   "metadata": {},
   "outputs": [],
   "source": [
    "\n",
    "from sklearn.metrics import accuracy_score\n",
    "\n",
    "from sklearn.naive_bayes import GaussianNB\n",
    "\n",
    "nb = GaussianNB()\n",
    "\n",
    "nb.fit(X_train,y_train)\n",
    "\n",
    "Y_pred_nb = nb.predict(X_test)\n"
   ]
  },
  {
   "cell_type": "code",
   "execution_count": 35,
   "metadata": {},
   "outputs": [
    {
     "name": "stdout",
     "output_type": "stream",
     "text": [
      "The accuracy score achieved using Naive Bayes is: 80.22 %\n"
     ]
    }
   ],
   "source": [
    "score_nb = round(accuracy_score(Y_pred_nb,y_test)*100,2)\n",
    "\n",
    "print(\"The accuracy score achieved using Naive Bayes is: \"+str(score_nb)+\" %\")"
   ]
  },
  {
   "cell_type": "markdown",
   "metadata": {},
   "source": [
    "## Support vector machine"
   ]
  },
  {
   "cell_type": "code",
   "execution_count": 38,
   "metadata": {},
   "outputs": [],
   "source": [
    "\n",
    "\n",
    "from sklearn import svm\n",
    "\n",
    "sv = svm.SVC(kernel='linear')\n",
    "\n",
    "sv.fit(X_train, y_train)\n",
    "\n",
    "Y_pred_svm = sv.predict(X_test)\n",
    "\n"
   ]
  },
  {
   "cell_type": "code",
   "execution_count": 39,
   "metadata": {},
   "outputs": [
    {
     "name": "stdout",
     "output_type": "stream",
     "text": [
      "The accuracy score achieved using SVM is: 80.22 %\n"
     ]
    }
   ],
   "source": [
    "score_svm = round(accuracy_score(Y_pred_svm,y_test)*100,2)\n",
    "\n",
    "print(\"The accuracy score achieved using SVM is: \"+str(score_svm)+\" %\")"
   ]
  },
  {
   "cell_type": "markdown",
   "metadata": {},
   "source": [
    "## Random forest Algorithm"
   ]
  },
  {
   "cell_type": "code",
   "execution_count": 40,
   "metadata": {},
   "outputs": [],
   "source": [
    "# Random forest Algorithm\n",
    "from sklearn.ensemble import RandomForestClassifier\n",
    "ranfor = RandomForestClassifier(n_estimators = 11, criterion = 'entropy', random_state = 3)\n",
    "ranfor.fit(X_train, y_train)\n",
    "Y_pred_ranfor = ranfor.predict(X_test)"
   ]
  },
  {
   "cell_type": "code",
   "execution_count": 41,
   "metadata": {},
   "outputs": [
    {
     "name": "stdout",
     "output_type": "stream",
     "text": [
      "The accuracy score achieved using Linear RF is: 81.32 %\n"
     ]
    }
   ],
   "source": [
    "score_rf = round(accuracy_score(Y_pred_ranfor,y_test)*100,2)\n",
    "\n",
    "print(\"The accuracy score achieved using Linear RF is: \"+str(score_rf)+\" %\")"
   ]
  },
  {
   "cell_type": "markdown",
   "metadata": {},
   "source": [
    "## Hybrid model trees Linear model -HMTLM"
   ]
  },
  {
   "cell_type": "code",
   "execution_count": 42,
   "metadata": {},
   "outputs": [],
   "source": [
    "import numpy as np\n",
    "\n",
    "from copy import deepcopy\n",
    "\n",
    "class modeltrees(object):\n",
    "\n",
    "    def __init__(self, model, max_depth=5, min_samples_leaf=10):\n",
    "\n",
    "        self.model = model\n",
    "        self.max_depth = max_depth\n",
    "        self.min_samples_leaf = min_samples_leaf\n",
    "        self.tree = None\n",
    "        \n",
    "    # Model_fit\n",
    "    \n",
    "    def fit(self, X, y, verbose=False):\n",
    "\n",
    "        # Settings\n",
    "        model = self.model\n",
    "        min_samples_leaf = self.min_samples_leaf\n",
    "        max_depth = self.max_depth\n",
    "\n",
    "        if verbose:\n",
    "            print(\" max_depth={}, min_samples_leaf={}...\".format(max_depth, min_samples_leaf))\n",
    "\n",
    "        def _build_tree(X, y):\n",
    "\n",
    "            global index_node_global\n",
    "\n",
    "            def _create_node(X, y, depth, container):\n",
    "                \n",
    "                loss_node, model_node = _fit_model(X, y, model)\n",
    "                \n",
    "                #print(loss_node, model_node,len(X))\n",
    "    \n",
    "                \n",
    "                node = {\"name\": \"node\",\n",
    "                        \"index\": container[\"index_node_global\"],\n",
    "                        \"loss\": loss_node,\n",
    "                        \"model\": model_node,\n",
    "                        \"data\": (X, y),\n",
    "                        \"n_samples\": len(X),\n",
    "                        \"j_feature\": None,\n",
    "                        \"threshold\": None,\n",
    "                        \"children\": {\"left\": None, \"right\": None},\n",
    "                        \"depth\": depth}\n",
    "                container[\"index_node_global\"] += 1\n",
    "                \n",
    "                #print(node)\n",
    "                \n",
    "                return node\n",
    "\n",
    "            def _split_traverse_node(node, container):\n",
    "\n",
    "                result = _splitter(node, model, max_depth=max_depth,min_samples_leaf=min_samples_leaf)\n",
    "\n",
    "                if not result[\"did_split\"]:\n",
    "                    if verbose:\n",
    "                        depth_spacing_str = \" \".join([\" \"] * node[\"depth\"])\n",
    "                        print(\" {}*leaf {} @ depth {}: loss={:.6f}, N={}\".format(depth_spacing_str, node[\"index\"], node[\"depth\"], node[\"loss\"], result[\"N\"]))\n",
    "                    return\n",
    "\n",
    "                node[\"j_feature\"] = result[\"j_feature\"]\n",
    "                node[\"threshold\"] = result[\"threshold\"]\n",
    "                del node[\"data\"] \n",
    "\n",
    "                (X_left, y_left), (X_right, y_right) = result[\"data\"]\n",
    "                model_left, model_right = result[\"models\"]\n",
    "\n",
    "                if verbose:\n",
    "                    depth_spacing_str = \" \".join([\" \"] * node[\"depth\"])\n",
    "                    print(\" {}node {} @ depth {}: loss={:.6f}, j_feature={}, threshold={:.6f}, N=({},{})\".format(depth_spacing_str, node[\"index\"], node[\"depth\"], node[\"loss\"], node[\"j_feature\"], node[\"threshold\"], len(X_left), len(X_right)))\n",
    "\n",
    "                node[\"children\"][\"left\"] = _create_node(X_left, y_left, node[\"depth\"]+1, container)\n",
    "                node[\"children\"][\"right\"] = _create_node(X_right, y_right, node[\"depth\"]+1, container)\n",
    "                node[\"children\"][\"left\"][\"model\"] = model_left\n",
    "                node[\"children\"][\"right\"][\"model\"] = model_right\n",
    "\n",
    "                _split_traverse_node(node[\"children\"][\"left\"], container)\n",
    "                _split_traverse_node(node[\"children\"][\"right\"], container)\n",
    "\n",
    "            container = {\"index_node_global\": 0}  \n",
    "            root = _create_node(X, y, 0, container) \n",
    "            _split_traverse_node(root, container) \n",
    "\n",
    "            return root\n",
    "        \n",
    "        self.tree = _build_tree(X, y)\n",
    "        \n",
    "        #print(\"Tree\",self.tree)\n",
    "        return self.tree\n",
    "\n",
    "    # Model_Predict\n",
    "    \n",
    "    def predict(self, X):\n",
    "        assert self.tree is not None\n",
    "        def _predict(node, x):\n",
    "            no_children = node[\"children\"][\"left\"] is None and \\\n",
    "                          node[\"children\"][\"right\"] is None\n",
    "            if no_children:\n",
    "                y_pred_x = node[\"model\"].predict([x])[0]\n",
    "                return y_pred_x\n",
    "            else:\n",
    "                if x[node[\"j_feature\"]] <= node[\"threshold\"]:  # x[j] < threshold\n",
    "                    return _predict(node[\"children\"][\"left\"], x)\n",
    "                else:  # x[j] > threshold\n",
    "                    return _predict(node[\"children\"][\"right\"], x)\n",
    "        y_pred = np.array([_predict(self.tree, x) for x in X])\n",
    "        return y_pred\n",
    "\n",
    "    # Model_Loss\n",
    "    \n",
    "    def loss(self, X, y, y_pred):\n",
    "        loss = self.model.loss(X, y, y_pred)\n",
    "        return loss\n",
    "\n",
    "def _splitter(node, model,max_depth=5, min_samples_leaf=10):\n",
    "\n",
    "    X, y = node[\"data\"]\n",
    "    depth = node[\"depth\"]\n",
    "    N, d = X.shape\n",
    "    \n",
    "    did_split = False\n",
    "    loss_best = node[\"loss\"]\n",
    "    data_best = None\n",
    "    models_best = None\n",
    "    j_feature_best = None\n",
    "    threshold_best = None\n",
    "\n",
    "    if (depth >= 0) and (depth < max_depth):\n",
    "\n",
    "        for j_feature in range(d):\n",
    "\n",
    "            threshold_search = []\n",
    "\n",
    "            for i in range(N):\n",
    "                threshold_search.append(X[i, j_feature])\n",
    "\n",
    "            for threshold in threshold_search:\n",
    "\n",
    "                (X_left, y_left), (X_right, y_right) = _split_data(j_feature, threshold, X, y)\n",
    "                N_left, N_right = len(X_left), len(X_right)\n",
    "\n",
    "                split_conditions = [N_left >= min_samples_leaf,\n",
    "                                    N_right >= min_samples_leaf]\n",
    "\n",
    "                if not all(split_conditions):\n",
    "                    continue\n",
    "\n",
    "                loss_left, model_left = _fit_model(X_left, y_left, model)\n",
    "                loss_right, model_right = _fit_model(X_right, y_right, model)\n",
    "                loss_split = (N_left*loss_left + N_right*loss_right) / N\n",
    "\n",
    "                if loss_split < loss_best:\n",
    "                    did_split = True\n",
    "                    loss_best = loss_split\n",
    "                    models_best = [model_left, model_right]\n",
    "                    data_best = [(X_left, y_left), (X_right, y_right)]\n",
    "                    j_feature_best = j_feature\n",
    "                    threshold_best = threshold\n",
    "\n",
    "    result = {\"did_split\": did_split,\n",
    "              \"loss\": loss_best,\n",
    "              \"models\": models_best,\n",
    "              \"data\": data_best,\n",
    "              \"j_feature\": j_feature_best,\n",
    "              \"threshold\": threshold_best,\n",
    "              \"N\": N}\n",
    "\n",
    "    return result\n",
    "\n",
    "def _fit_model(X, y, model):\n",
    "    model_copy = deepcopy(model)\n",
    "    model_copy.fit(X,y)\n",
    "    y_pred = model_copy.predict(X)\n",
    "    loss = model_copy.loss(X, y, y_pred)\n",
    "    assert loss >= 0.0\n",
    "    return loss, model_copy\n",
    "\n",
    "def _split_data(j_feature, threshold, X, y):\n",
    "    idx_left = np.where(X[:, j_feature] <= threshold)[0]\n",
    "    idx_right = np.delete(np.arange(0, len(X)), idx_left)\n",
    "\n",
    "    assert len(idx_left) + len(idx_right) == len(X)\n",
    "    \n",
    "    return (X[idx_left], y[idx_left]), (X[idx_right], y[idx_right])"
   ]
  },
  {
   "cell_type": "code",
   "execution_count": 43,
   "metadata": {},
   "outputs": [],
   "source": [
    "# Importing the libraries\n",
    "\n",
    "import matplotlib.pyplot as plt\n",
    "import pandas as pd\n",
    "import numpy as np\n",
    "from sklearn.metrics import mean_squared_error"
   ]
  },
  {
   "cell_type": "code",
   "execution_count": 44,
   "metadata": {},
   "outputs": [],
   "source": [
    "class logreg:\n",
    "\n",
    "    def __init__(self):\n",
    "        from sklearn.linear_model import LogisticRegression\n",
    "        self.model = LogisticRegression(penalty=\"l2\",solver='liblinear')\n",
    "        self.flag = False\n",
    "        self.flag_y_pred = None\n",
    "\n",
    "    def fit(self, X, y):\n",
    "        y_unique = list(set(y))\n",
    "        if len(y_unique) == 1:\n",
    "            self.flag = True\n",
    "            self.flag_y_pred = y_unique[0]\n",
    "        else:\n",
    "            self.model.fit(X, y)\n",
    "\n",
    "    def predict(self, X):\n",
    "        if self.flag:\n",
    "            return self.flag_y_pred * np.ones((len(X),), dtype=int)\n",
    "        else:\n",
    "            return self.model.predict(X)\n",
    "\n",
    "    def loss(self, X, y, y_pred):\n",
    "        return mean_squared_error(y, y_pred)\n",
    "\n",
    "    def predict_proba(self,X):\n",
    "        return self.model.predict_proba(X)\n",
    "    "
   ]
  },
  {
   "cell_type": "code",
   "execution_count": 45,
   "metadata": {},
   "outputs": [],
   "source": [
    "#Read dataset\n",
    "\n",
    "dataset = pd.read_csv('data.csv')\n",
    "\n",
    "X = dataset.iloc[:,:-1].values\n",
    "y = dataset.iloc[:, 13].values"
   ]
  },
  {
   "cell_type": "code",
   "execution_count": 46,
   "metadata": {},
   "outputs": [],
   "source": [
    "from sklearn.impute import SimpleImputer\n",
    "imputer=SimpleImputer(missing_values=np.nan, strategy='mean')\n",
    "imputer=imputer.fit(X[:,11:13])\n",
    "X[:,11:13]=imputer.transform(X[:,11:13])"
   ]
  },
  {
   "cell_type": "code",
   "execution_count": 47,
   "metadata": {},
   "outputs": [],
   "source": [
    "from sklearn.model_selection import train_test_split\n",
    "X_train, X_test, Y_train, Y_test = train_test_split(X, y, test_size = 0.30, random_state =9)"
   ]
  },
  {
   "cell_type": "code",
   "execution_count": 48,
   "metadata": {},
   "outputs": [],
   "source": [
    "from sklearn.preprocessing import StandardScaler\n",
    "sc = StandardScaler()\n",
    "X_train = sc.fit_transform(X_train)\n",
    "X_test = sc.transform(X_test)"
   ]
  },
  {
   "cell_type": "code",
   "execution_count": 49,
   "metadata": {},
   "outputs": [],
   "source": [
    "no_esitmators=5\n",
    "\n",
    "y_pred=[]\n",
    "\n",
    "n_train_split=int(len(X_train)/no_esitmators)\n",
    "\n",
    "init_train=0\n",
    "\n",
    "finl_train=0\n",
    "\n",
    "yx_pred=[]\n",
    "\n",
    "classifier=None"
   ]
  },
  {
   "cell_type": "code",
   "execution_count": 50,
   "metadata": {},
   "outputs": [
    {
     "name": "stdout",
     "output_type": "stream",
     "text": [
      "---------------Estimators1processing---------------\n",
      "Total Train Data length  212\n",
      "Training Data count    42\n",
      "Model      <__main__.modeltrees object at 0x7f248eb75fa0>\n",
      "Test Data length  91\n",
      "Estimator predictions  [0 0 0 0 0 1 1 1 0 0 1 1 0 1 0 0 1 0 0 1 0 0 1 1 1 1 1 1 0 1 0 0 1 1 0 1 0\n",
      " 0 1 0 1 0 1 0 0 0 0 0 1 0 0 0 0 1 1 1 0 0 1 1 0 1 0 0 0 1 0 0 0 1 0 0 1 0\n",
      " 0 1 0 0 0 1 1 1 0 1 0 1 1 0 0 1 0]\n",
      "Estimator predictions length  91\n",
      "---------------Estimators2processing---------------\n",
      "Total Train Data length  212\n",
      "Training Data count    84\n",
      "Model      <__main__.modeltrees object at 0x7f248ed80eb0>\n",
      "Test Data length  91\n",
      "Estimator predictions  [0 0 0 0 0 1 1 1 0 0 1 1 0 1 0 0 1 0 1 1 0 0 1 0 1 1 1 1 0 1 0 0 1 1 0 0 0\n",
      " 0 1 0 1 0 1 0 0 0 0 0 1 0 0 0 0 1 1 1 0 0 1 1 0 0 0 0 0 0 0 0 0 0 0 0 1 1\n",
      " 0 1 0 0 0 1 1 0 0 1 0 1 1 0 0 1 0]\n",
      "Estimator predictions length  91\n",
      "---------------Estimators3processing---------------\n",
      "Total Train Data length  212\n",
      "Training Data count    126\n",
      "Model      <__main__.modeltrees object at 0x7f248eda3820>\n",
      "Test Data length  91\n",
      "Estimator predictions  [0 1 0 0 0 1 0 1 0 0 1 1 0 1 0 1 0 1 0 1 0 0 1 0 1 1 1 1 0 1 0 1 1 1 0 1 1\n",
      " 0 1 0 1 0 1 0 0 0 1 0 1 0 0 0 0 1 1 1 0 0 1 1 0 0 0 1 0 1 0 1 0 0 0 0 1 1\n",
      " 0 1 0 0 1 0 1 0 0 0 0 1 1 0 0 0 1]\n",
      "Estimator predictions length  91\n",
      "---------------Estimators4processing---------------\n",
      "Total Train Data length  212\n",
      "Training Data count    168\n",
      "Model      <__main__.modeltrees object at 0x7f248eda3610>\n",
      "Test Data length  91\n",
      "Estimator predictions  [0 0 0 0 0 1 0 1 0 0 1 1 0 1 0 1 0 0 0 1 0 0 0 0 1 1 1 1 0 1 0 0 1 1 0 1 1\n",
      " 0 1 0 1 0 1 0 0 0 0 0 1 0 0 0 0 1 1 0 0 0 1 1 0 0 0 0 0 0 0 1 0 0 0 0 1 1\n",
      " 0 1 0 0 1 1 1 0 0 1 0 1 1 0 0 1 0]\n",
      "Estimator predictions length  91\n",
      "---------------Estimators5processing---------------\n",
      "Total Train Data length  212\n",
      "Training Data count    210\n",
      "Model      <__main__.modeltrees object at 0x7f248ed80700>\n",
      "Test Data length  91\n",
      "Estimator predictions  [0 0 0 0 0 1 1 0 0 0 1 1 0 1 0 1 0 0 0 1 1 0 1 1 1 1 1 1 0 1 0 0 1 1 0 1 1\n",
      " 0 1 0 1 0 1 0 0 0 0 0 1 0 0 1 0 1 1 1 0 0 1 1 0 0 0 0 0 0 0 0 0 0 0 0 1 1\n",
      " 0 1 0 0 0 1 0 1 0 1 0 1 1 0 0 0 0]\n",
      "Estimator predictions length  91\n",
      "No of X test output 91\n",
      "No of output 5\n",
      "--------------------------count of voting started------------------------------\n"
     ]
    }
   ],
   "source": [
    "\n",
    "for i in range(1,no_esitmators+1):\n",
    "\n",
    "    classifier =logreg()\n",
    "    \n",
    "    print(\"---------------\"+\"Estimators\"+str(i)+\"processing\"+\"---------------\")\n",
    "    \n",
    "    print(\"Total Train Data length \",len(X_train))\n",
    "    \n",
    "    finl_train=i*n_train_split\n",
    "    \n",
    "    print(\"Training Data count   \",finl_train)\n",
    "    \n",
    "    tmp_X_train=X_train[init_train:finl_train]\n",
    "    tmp_y_train=Y_train[init_train:finl_train]\n",
    "    \n",
    "\n",
    "    model=modeltrees(classifier,max_depth=20, min_samples_leaf=10)\n",
    "    \n",
    "    print(\"Model     \",model)\n",
    "\n",
    "    node=model.fit(tmp_X_train,tmp_y_train,verbose=False)\n",
    "    \n",
    "    classifier=node[\"model\"]\n",
    "\n",
    "    y_pred_tmp=model.predict(X_test)\n",
    "    \n",
    "    \n",
    "    print(\"Test Data length \",len(X_test))\n",
    "    \n",
    "    print(\"Estimator predictions \",y_pred_tmp)\n",
    "    \n",
    "    print(\"Estimator predictions length \",len(y_pred_tmp))\n",
    "\n",
    "    yx_pred.append(y_pred_tmp)\n",
    "    \n",
    "\n",
    "print(\"No of X test output\",len(yx_pred[0]))\n",
    "\n",
    "print(\"No of output\",len(yx_pred))\n",
    "    \n",
    "# count of voting \n",
    "\n",
    "print(\"--------------------------count of voting started------------------------------\")\n",
    "\n",
    "for j in range(len(yx_pred[0])):\n",
    "    \n",
    "    curr=[]\n",
    "    \n",
    "    for i in range(len(yx_pred)):\n",
    "        \n",
    "        curr.append(yx_pred[i][j])\n",
    "        \n",
    "    #print(len(curr))\n",
    "        \n",
    "    # zero count\n",
    "    a=curr.count(0)\n",
    "    # one count\n",
    "    b=curr.count(1)\n",
    "\n",
    "    if a>b:\n",
    "        y_pred.append(0)\n",
    "    else:\n",
    "        y_pred.append(1)\n"
   ]
  },
  {
   "cell_type": "code",
   "execution_count": 51,
   "metadata": {},
   "outputs": [
    {
     "name": "stdout",
     "output_type": "stream",
     "text": [
      "The accuracy score achieved using score_hmtlm is: 86 %\n"
     ]
    }
   ],
   "source": [
    "score_hmtlm = round(accuracy_score(y_pred,Y_test)*100)\n",
    "\n",
    "print(\"The accuracy score achieved using score_hmtlm is: \"+str(score_hmtlm)+\" %\")"
   ]
  },
  {
   "cell_type": "code",
   "execution_count": 52,
   "metadata": {},
   "outputs": [],
   "source": [
    "# from sklearn.model_selection import train_test_split\n",
    "\n",
    "# dataset = pd.read_csv('data.csv')\n",
    "\n",
    "# dataset['label'] = labelencoder.fit_transform(dataset['num'])\n",
    "\n",
    "# dataset = dataset.fillna(0)\n",
    "\n",
    "# X = dataset.iloc[:,:-2].values\n",
    "# y = dataset.iloc[:, 13:14].values\n",
    "\n",
    "# X_tr, X_ts, Y_tr, Y_ts = train_test_split(X, y, test_size = 0.30, random_state =9)\n",
    "\n",
    "# from sklearn.multioutput import MultiOutputClassifier\n",
    "\n",
    "# multi_target_forest = MultiOutputClassifier(model, n_jobs=-1)\n",
    "\n",
    "# multi_target_forest.fit(X_tr, Y_tr).predict(X_ts)"
   ]
  },
  {
   "cell_type": "markdown",
   "metadata": {},
   "source": [
    "## Performance_Analysis"
   ]
  },
  {
   "cell_type": "code",
   "execution_count": 53,
   "metadata": {},
   "outputs": [],
   "source": [
    "# Evaluating using accuracy_score metric\n",
    "\n",
    "from sklearn.metrics import accuracy_score"
   ]
  },
  {
   "cell_type": "code",
   "execution_count": 54,
   "metadata": {},
   "outputs": [
    {
     "name": "stdout",
     "output_type": "stream",
     "text": [
      "The accuracy score achieved using Naive Bayes is: 80.22 %\n",
      "The accuracy score achieved using Support Vector Machine is: 80.22 %\n",
      "The accuracy score achieved using Random Forest is: 81.32 %\n",
      "The accuracy score achieved using Hybrid Model Tree Linear Model is: 86 %\n"
     ]
    }
   ],
   "source": [
    "scores = [score_nb,score_svm,score_rf,score_hmtlm]\n",
    "\n",
    "algorithms = [\"Naive Bayes\",\"Support Vector Machine\",\"Random Forest\",\"Hybrid Model Tree Linear Model\"]    \n",
    "\n",
    "for i in range(len(algorithms)):\n",
    "    \n",
    "    print(\"The accuracy score achieved using \"+algorithms[i]+\" is: \"+str(scores[i])+\" %\")"
   ]
  },
  {
   "cell_type": "code",
   "execution_count": 55,
   "metadata": {},
   "outputs": [
    {
     "data": {
      "text/plain": [
       "<AxesSubplot:xlabel='Algorithms', ylabel='Accuracy score'>"
      ]
     },
     "execution_count": 55,
     "metadata": {},
     "output_type": "execute_result"
    },
    {
     "data": {
      "image/png": "[encoded data removed]",
      "text/plain": [
       "<Figure size 720x432 with 1 Axes>"
      ]
     },
     "metadata": {},
     "output_type": "display_data"
    }
   ],
   "source": [
    "sns.set(rc={'figure.figsize':(10,6)})\n",
    "\n",
    "plt.xlabel(\"Algorithms\")\n",
    "\n",
    "plt.ylabel(\"Accuracy score\")\n",
    "\n",
    "sns.barplot(algorithms,scores)"
   ]
  },
  {
   "cell_type": "markdown",
   "metadata": {},
   "source": [
    "### Support Vector Machine"
   ]
  },
  {
   "cell_type": "markdown",
   "metadata": {},
   "source": [
    "#### classification_report"
   ]
  },
  {
   "cell_type": "code",
   "execution_count": 56,
   "metadata": {},
   "outputs": [
    {
     "name": "stdout",
     "output_type": "stream",
     "text": [
      "              precision    recall  f1-score   support\n",
      "\n",
      "           0       0.87      0.80      0.83        56\n",
      "           1       0.72      0.80      0.76        35\n",
      "\n",
      "    accuracy                           0.80        91\n",
      "   macro avg       0.79      0.80      0.80        91\n",
      "weighted avg       0.81      0.80      0.80        91\n",
      "\n"
     ]
    }
   ],
   "source": [
    "from sklearn.metrics import classification_report\n",
    "\n",
    "print(classification_report(y_test, Y_pred_svm))"
   ]
  },
  {
   "cell_type": "markdown",
   "metadata": {},
   "source": [
    "#### confusion_matrix"
   ]
  },
  {
   "cell_type": "code",
   "execution_count": 57,
   "metadata": {},
   "outputs": [
    {
     "data": {
      "text/plain": [
       "<AxesSubplot:>"
      ]
     },
     "execution_count": 57,
     "metadata": {},
     "output_type": "execute_result"
    },
    {
     "data": {
      "image/png": "[encoded data removed]",
      "text/plain": [
       "<Figure size 720x432 with 1 Axes>"
      ]
     },
     "metadata": {},
     "output_type": "display_data"
    }
   ],
   "source": [
    "\n",
    "from sklearn.metrics import confusion_matrix\n",
    "matrix_confusion = confusion_matrix(y_test, Y_pred_svm)\n",
    "sns.heatmap(matrix_confusion, square=True, annot=True, cmap='Blues', cbar=False)"
   ]
  },
  {
   "cell_type": "markdown",
   "metadata": {},
   "source": [
    "### Random Forest"
   ]
  },
  {
   "cell_type": "markdown",
   "metadata": {},
   "source": [
    "#### classification_report"
   ]
  },
  {
   "cell_type": "code",
   "execution_count": 58,
   "metadata": {},
   "outputs": [
    {
     "name": "stdout",
     "output_type": "stream",
     "text": [
      "              precision    recall  f1-score   support\n",
      "\n",
      "           0       0.87      0.82      0.84        56\n",
      "           1       0.74      0.80      0.77        35\n",
      "\n",
      "    accuracy                           0.81        91\n",
      "   macro avg       0.80      0.81      0.81        91\n",
      "weighted avg       0.82      0.81      0.81        91\n",
      "\n"
     ]
    }
   ],
   "source": [
    "from sklearn.metrics import classification_report\n",
    "\n",
    "print(classification_report(y_test, Y_pred_ranfor))"
   ]
  },
  {
   "cell_type": "markdown",
   "metadata": {},
   "source": [
    "#### confusion_matrix"
   ]
  },
  {
   "cell_type": "code",
   "execution_count": 59,
   "metadata": {},
   "outputs": [
    {
     "data": {
      "text/plain": [
       "<AxesSubplot:>"
      ]
     },
     "execution_count": 59,
     "metadata": {},
     "output_type": "execute_result"
    },
    {
     "data": {
      "image/png": "[encoded data removed]",
      "text/plain": [
       "<Figure size 720x432 with 1 Axes>"
      ]
     },
     "metadata": {},
     "output_type": "display_data"
    }
   ],
   "source": [
    "\n",
    "from sklearn.metrics import confusion_matrix\n",
    "matrix_confusion = confusion_matrix(y_test, Y_pred_ranfor)\n",
    "sns.heatmap(matrix_confusion, square=True, annot=True, cmap='Blues', cbar=False)"
   ]
  },
  {
   "cell_type": "markdown",
   "metadata": {},
   "source": [
    "### Naive Bayes"
   ]
  },
  {
   "cell_type": "markdown",
   "metadata": {},
   "source": [
    "#### classification_report"
   ]
  },
  {
   "cell_type": "code",
   "execution_count": 60,
   "metadata": {},
   "outputs": [
    {
     "name": "stdout",
     "output_type": "stream",
     "text": [
      "              precision    recall  f1-score   support\n",
      "\n",
      "           0       0.85      0.82      0.84        56\n",
      "           1       0.73      0.77      0.75        35\n",
      "\n",
      "    accuracy                           0.80        91\n",
      "   macro avg       0.79      0.80      0.79        91\n",
      "weighted avg       0.80      0.80      0.80        91\n",
      "\n"
     ]
    }
   ],
   "source": [
    "from sklearn.metrics import classification_report\n",
    "\n",
    "print(classification_report(y_test, Y_pred_nb))"
   ]
  },
  {
   "cell_type": "markdown",
   "metadata": {},
   "source": [
    "#### confusion Matrix "
   ]
  },
  {
   "cell_type": "code",
   "execution_count": 61,
   "metadata": {},
   "outputs": [
    {
     "data": {
      "text/plain": [
       "<AxesSubplot:>"
      ]
     },
     "execution_count": 61,
     "metadata": {},
     "output_type": "execute_result"
    },
    {
     "data": {
      "image/png": "[encoded data removed]",
      "text/plain": [
       "<Figure size 720x432 with 1 Axes>"
      ]
     },
     "metadata": {},
     "output_type": "display_data"
    }
   ],
   "source": [
    "\n",
    "from sklearn.metrics import confusion_matrix\n",
    "matrix_confusion = confusion_matrix(y_test, Y_pred_nb)\n",
    "sns.heatmap(matrix_confusion, square=True, annot=True, cmap='Blues', cbar=False)"
   ]
  },
  {
   "cell_type": "markdown",
   "metadata": {},
   "source": [
    "## Hybrid Model Tree Linear Model"
   ]
  },
  {
   "cell_type": "markdown",
   "metadata": {},
   "source": [
    "#### classification_report"
   ]
  },
  {
   "cell_type": "code",
   "execution_count": 62,
   "metadata": {},
   "outputs": [
    {
     "name": "stdout",
     "output_type": "stream",
     "text": [
      "              precision    recall  f1-score   support\n",
      "\n",
      "           0       0.89      0.88      0.88        56\n",
      "           1       0.81      0.83      0.82        35\n",
      "\n",
      "    accuracy                           0.86        91\n",
      "   macro avg       0.85      0.85      0.85        91\n",
      "weighted avg       0.86      0.86      0.86        91\n",
      "\n"
     ]
    }
   ],
   "source": [
    "from sklearn.metrics import classification_report\n",
    "\n",
    "print(classification_report(Y_test, y_pred))"
   ]
  },
  {
   "cell_type": "markdown",
   "metadata": {},
   "source": [
    "#### confusion_matrix"
   ]
  },
  {
   "cell_type": "code",
   "execution_count": 63,
   "metadata": {},
   "outputs": [
    {
     "data": {
      "text/plain": [
       "<AxesSubplot:>"
      ]
     },
     "execution_count": 63,
     "metadata": {},
     "output_type": "execute_result"
    },
    {
     "data": {
      "image/png": "[encoded data removed]",
      "text/plain": [
       "<Figure size 720x432 with 1 Axes>"
      ]
     },
     "metadata": {},
     "output_type": "display_data"
    }
   ],
   "source": [
    "from sklearn.metrics import confusion_matrix\n",
    "matrix_confusion = confusion_matrix(Y_test, y_pred)\n",
    "sns.heatmap(matrix_confusion, square=True, annot=True, cmap='Blues', cbar=False)"
   ]
  },
  {
   "cell_type": "markdown",
   "metadata": {},
   "source": [
    "## MLA comparisson"
   ]
  },
  {
   "cell_type": "code",
   "execution_count": 64,
   "metadata": {},
   "outputs": [],
   "source": [
    "from sklearn.metrics import mean_squared_error,confusion_matrix, precision_score, recall_score, auc,roc_curve\n"
   ]
  },
  {
   "cell_type": "code",
   "execution_count": 65,
   "metadata": {},
   "outputs": [],
   "source": [
    "MLA=[GaussianNB(),svm.SVC(kernel='linear'),RandomForestClassifier(n_estimators = 11, criterion = 'entropy', random_state = 3)]"
   ]
  },
  {
   "cell_type": "code",
   "execution_count": 66,
   "metadata": {},
   "outputs": [
    {
     "data": {
      "text/html": [
       "<div>\n",
       "<style scoped>\n",
       "    .dataframe tbody tr th:only-of-type {\n",
       "        vertical-align: middle;\n",
       "    }\n",
       "\n",
       "    .dataframe tbody tr th {\n",
       "        vertical-align: top;\n",
       "    }\n",
       "\n",
       "    .dataframe thead th {\n",
       "        text-align: right;\n",
       "    }\n",
       "</style>\n",
       "<table border=\"1\" class=\"dataframe\">\n",
       "  <thead>\n",
       "    <tr style=\"text-align: right;\">\n",
       "      <th></th>\n",
       "      <th>MLA used</th>\n",
       "      <th>Train Accuracy</th>\n",
       "      <th>Test Accuracy</th>\n",
       "      <th>Precission</th>\n",
       "      <th>Recall</th>\n",
       "      <th>AUC</th>\n",
       "    </tr>\n",
       "  </thead>\n",
       "  <tbody>\n",
       "    <tr>\n",
       "      <th>0</th>\n",
       "      <td>GaussianNB</td>\n",
       "      <td>0.8538</td>\n",
       "      <td>0.8571</td>\n",
       "      <td>0.823529</td>\n",
       "      <td>0.800000</td>\n",
       "      <td>0.846429</td>\n",
       "    </tr>\n",
       "    <tr>\n",
       "      <th>1</th>\n",
       "      <td>SVC</td>\n",
       "      <td>0.8726</td>\n",
       "      <td>0.8132</td>\n",
       "      <td>0.725000</td>\n",
       "      <td>0.828571</td>\n",
       "      <td>0.816071</td>\n",
       "    </tr>\n",
       "    <tr>\n",
       "      <th>2</th>\n",
       "      <td>RandomForestClassifier</td>\n",
       "      <td>0.9953</td>\n",
       "      <td>0.8352</td>\n",
       "      <td>0.794118</td>\n",
       "      <td>0.771429</td>\n",
       "      <td>0.823214</td>\n",
       "    </tr>\n",
       "  </tbody>\n",
       "</table>\n",
       "</div>"
      ],
      "text/plain": [
       "                 MLA used  Train Accuracy  Test Accuracy  Precission  \\\n",
       "0              GaussianNB          0.8538         0.8571    0.823529   \n",
       "1                     SVC          0.8726         0.8132    0.725000   \n",
       "2  RandomForestClassifier          0.9953         0.8352    0.794118   \n",
       "\n",
       "     Recall       AUC  \n",
       "0  0.800000  0.846429  \n",
       "1  0.828571  0.816071  \n",
       "2  0.771429  0.823214  "
      ]
     },
     "execution_count": 66,
     "metadata": {},
     "output_type": "execute_result"
    }
   ],
   "source": [
    "MLA_columns = []\n",
    "MLA_compare = pd.DataFrame(columns = MLA_columns)\n",
    "\n",
    "row_index = 0\n",
    "for alg in MLA:  \n",
    "    \n",
    "    predicted = alg.fit(X_train, y_train).predict(X_test)\n",
    "    fp, tp, th = roc_curve(y_test, predicted)\n",
    "    MLA_name = alg.__class__.__name__\n",
    "    MLA_compare.loc[row_index,'MLA used'] = MLA_name\n",
    "    MLA_compare.loc[row_index, 'Train Accuracy'] = round(alg.score(X_train, y_train), 4)\n",
    "    MLA_compare.loc[row_index, 'Test Accuracy'] = round(alg.score(X_test, y_test), 4)\n",
    "    MLA_compare.loc[row_index, 'Precission'] = precision_score(y_test, predicted)\n",
    "    MLA_compare.loc[row_index, 'Recall'] = recall_score(y_test, predicted)\n",
    "    MLA_compare.loc[row_index, 'AUC'] = auc(fp, tp)\n",
    "\n",
    "    row_index+=1\n",
    "    \n",
    "#MLA_compare.sort_values(by = ['MLA Test Accuracy'], ascending = False, inplace = True)    \n",
    "MLA_compare"
   ]
  },
  {
   "cell_type": "code",
   "execution_count": 67,
   "metadata": {},
   "outputs": [
    {
     "data": {
      "image/png": "[encoded data removed]",
      "text/plain": [
       "<Figure size 720x360 with 1 Axes>"
      ]
     },
     "metadata": {},
     "output_type": "display_data"
    }
   ],
   "source": [
    "# Creating plot to show the train accuracy\n",
    "plt.subplots(figsize=(10,5))\n",
    "sns.barplot(x=\"MLA used\", y=\"Train Accuracy\",data=MLA_compare,palette='hot',edgecolor=sns.color_palette('dark',7))\n",
    "plt.xticks(rotation=90)\n",
    "plt.title('MLA Train Accuracy Comparison')\n",
    "plt.show()"
   ]
  },
  {
   "cell_type": "code",
   "execution_count": 68,
   "metadata": {},
   "outputs": [
    {
     "data": {
      "image/png": "[encoded data removed]",
      "text/plain": [
       "<Figure size 720x360 with 1 Axes>"
      ]
     },
     "metadata": {},
     "output_type": "display_data"
    }
   ],
   "source": [
    "# Creating plot to show the test accuracy\n",
    "plt.subplots(figsize=(10,5))\n",
    "sns.barplot(x=\"MLA used\", y=\"Test Accuracy\",data=MLA_compare,palette='hot',edgecolor=sns.color_palette('dark',7))\n",
    "plt.xticks(rotation=90)\n",
    "plt.title('Test Accuraccy of different machine learning models')\n",
    "plt.show()"
   ]
  },
  {
   "cell_type": "code",
   "execution_count": 69,
   "metadata": {},
   "outputs": [
    {
     "data": {
      "image/png": "[encoded data removed]",
      "text/plain": [
       "<Figure size 720x360 with 1 Axes>"
      ]
     },
     "metadata": {},
     "output_type": "display_data"
    }
   ],
   "source": [
    "# Creating plots for MLA recall comparison\n",
    "plt.subplots(figsize=(10,5))\n",
    "sns.barplot(x=\"MLA used\", y=\"Recall\",data=MLA_compare,palette='hot',edgecolor=sns.color_palette('dark',7))\n",
    "plt.xticks(rotation=90)\n",
    "plt.title('MLA Recall Comparison')\n",
    "plt.show()"
   ]
  },
  {
   "cell_type": "code",
   "execution_count": 70,
   "metadata": {},
   "outputs": [
    {
     "data": {
      "image/png": "[encoded data removed]",
      "text/plain": [
       "<Figure size 720x360 with 1 Axes>"
      ]
     },
     "metadata": {},
     "output_type": "display_data"
    }
   ],
   "source": [
    "# Creating plot for MLA AUC comparison\n",
    "plt.subplots(figsize=(10,5))\n",
    "sns.barplot(x=\"MLA used\", y=\"AUC\",data=MLA_compare,palette='hot',edgecolor=sns.color_palette('dark',7))\n",
    "plt.xticks(rotation=90)\n",
    "plt.title('MLA AUC Comparison')\n",
    "plt.show()"
   ]
  },
  {
   "cell_type": "markdown",
   "metadata": {},
   "source": [
    "### Roc curve"
   ]
  },
  {
   "cell_type": "code",
   "execution_count": 71,
   "metadata": {},
   "outputs": [
    {
     "data": {
      "image/png": "[encoded data removed]",
      "text/plain": [
       "<Figure size 720x432 with 1 Axes>"
      ]
     },
     "metadata": {},
     "output_type": "display_data"
    }
   ],
   "source": [
    "from sklearn.metrics import mean_squared_error,confusion_matrix, precision_score, recall_score, auc,roc_curve\n",
    "\n",
    "index = 1\n",
    "for alg in MLA:\n",
    "    predicted = alg.fit(X_train, y_train).predict(X_test)\n",
    "    fp, tp, th = roc_curve(y_test, predicted)\n",
    "    roc_auc_mla = auc(fp, tp)\n",
    "    MLA_name = alg.__class__.__name__\n",
    "    plt.plot(fp, tp, lw=2, alpha=0.3, label='ROC %s (AUC = %0.2f)'  % (MLA_name, roc_auc_mla))\n",
    "   \n",
    "    index+=1\n",
    "\n",
    "plt.title('ROC Curve comparison')\n",
    "plt.legend(bbox_to_anchor=(1.05, 1), loc=2, borderaxespad=0.)\n",
    "plt.plot([0,1],[0,1],'r--')\n",
    "plt.xlim([0,1])\n",
    "plt.ylim([0,1])\n",
    "plt.ylabel('True Positive Rate')\n",
    "plt.xlabel('False Positive Rate')    \n",
    "plt.show()"
   ]
  },
  {
   "cell_type": "code",
   "execution_count": 76,
   "metadata": {},
   "outputs": [],
   "source": [
    "import pickle\n",
    "\n",
    "filename = 'model.pkl'\n",
    "pickle.dump(ranfor, open(filename, 'wb'))"
   ]
  },
  {
   "cell_type": "code",
   "execution_count": null,
   "metadata": {},
   "outputs": [],
   "source": []
  }
 ],
 "metadata": {
  "kernelspec": {
   "display_name": "Python 3",
   "language": "python",
   "name": "python3"
  },
  "language_info": {
   "codemirror_mode": {
    "name": "ipython",
    "version": 3
   },
   "file_extension": ".py",
   "mimetype": "text/x-python",
   "name": "python",
   "nbconvert_exporter": "python",
   "pygments_lexer": "ipython3",
   "version": "3.8.10"
  },
  "toc": {
   "base_numbering": 1,
   "nav_menu": {},
   "number_sections": true,
   "sideBar": true,
   "skip_h1_title": false,
   "title_cell": "Table of Contents",
   "title_sidebar": "Contents",
   "toc_cell": false,
   "toc_position": {},
   "toc_section_display": true,
   "toc_window_display": false
  }
 },
 "nbformat": 4,
 "nbformat_minor": 2
}
